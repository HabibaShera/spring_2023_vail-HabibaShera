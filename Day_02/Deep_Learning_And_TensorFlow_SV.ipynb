{
  "nbformat": 4,
  "nbformat_minor": 0,
  "metadata": {
    "colab": {
      "provenance": [],
      "toc_visible": true,
      "include_colab_link": true
    },
    "kernelspec": {
      "name": "python3",
      "display_name": "Python 3"
    },
    "language_info": {
      "name": "python"
    }
  },
  "cells": [
    {
      "cell_type": "markdown",
      "metadata": {
        "id": "view-in-github",
        "colab_type": "text"
      },
      "source": [
        "<a href=\"https://colab.research.google.com/github/MySureStart/spring_2023_vail-HabibaShera/blob/main/Day_02/Deep_Learning_And_TensorFlow_SV.ipynb\" target=\"_parent\"><img src=\"https://colab.research.google.com/assets/colab-badge.svg\" alt=\"Open In Colab\"/></a>"
      ]
    },
    {
      "cell_type": "markdown",
      "metadata": {
        "id": "861ncVuLPeyF"
      },
      "source": [
        "![image_2021-10-30_133041.png](data:image/png;base64,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)"
      ]
    },
    {
      "cell_type": "markdown",
      "source": [
        "#Day 2 Objectives:\n",
        "* To familiarize you with the differences between AI, Machine Learning, and Deep Learning. \n",
        "* To introduce you to Deep Learning models and algorithms.\n"
      ],
      "metadata": {
        "id": "w2UqfECtytYD"
      }
    },
    {
      "cell_type": "markdown",
      "metadata": {
        "id": "Ik8Ts6QIEHqn"
      },
      "source": [
        "**Note**: In case of errors which suggest restarting the runtime, restarting runtime via the button on the comments will solve the error. Or you can also go to *Runtime > Restart Runtime*.\n",
        "\n",
        "### Google Colabratory \n",
        "is a virtual coding environment, within which many useful libraries have already been installed. If we want to install newer or different versions of the ones already installed, there can be version conflicts. But these conflicts may be resolved by restarting the runtime.\n"
      ]
    },
    {
      "cell_type": "code",
      "metadata": {
        "id": "VJ1tv8oFmHLN",
        "outputId": "15d60ee5-43c7-4cfa-9ae4-bbc1b769608c",
        "colab": {
          "base_uri": "https://localhost:8080/",
          "height": 1000
        }
      },
      "source": [
        "# Any python code script to be run in a cell should be written just as so\n",
        "# And any terminal commands to be run is preceeded by a \"!\" \n",
        "\n",
        "! pip install --upgrade matplotlib \n",
        "! pip install --upgrade numpy\n",
        "! pip install --upgrade mlxtend"
      ],
      "execution_count": 1,
      "outputs": [
        {
          "output_type": "stream",
          "name": "stdout",
          "text": [
            "Looking in indexes: https://pypi.org/simple, https://us-python.pkg.dev/colab-wheels/public/simple/\n",
            "Requirement already satisfied: matplotlib in /usr/local/lib/python3.8/dist-packages (3.2.2)\n",
            "Collecting matplotlib\n",
            "  Downloading matplotlib-3.6.3-cp38-cp38-manylinux_2_12_x86_64.manylinux2010_x86_64.whl (9.4 MB)\n",
            "\u001b[2K     \u001b[90m━━━━━━━━━━━━━━━━━━━━━━━━━━━━━━━━━━━━━━━━\u001b[0m \u001b[32m9.4/9.4 MB\u001b[0m \u001b[31m54.2 MB/s\u001b[0m eta \u001b[36m0:00:00\u001b[0m\n",
            "\u001b[?25hCollecting fonttools>=4.22.0\n",
            "  Downloading fonttools-4.38.0-py3-none-any.whl (965 kB)\n",
            "\u001b[2K     \u001b[90m━━━━━━━━━━━━━━━━━━━━━━━━━━━━━━━━━━━━━━\u001b[0m \u001b[32m965.4/965.4 KB\u001b[0m \u001b[31m57.3 MB/s\u001b[0m eta \u001b[36m0:00:00\u001b[0m\n",
            "\u001b[?25hRequirement already satisfied: cycler>=0.10 in /usr/local/lib/python3.8/dist-packages (from matplotlib) (0.11.0)\n",
            "Requirement already satisfied: kiwisolver>=1.0.1 in /usr/local/lib/python3.8/dist-packages (from matplotlib) (1.4.4)\n",
            "Requirement already satisfied: python-dateutil>=2.7 in /usr/local/lib/python3.8/dist-packages (from matplotlib) (2.8.2)\n",
            "Requirement already satisfied: pyparsing>=2.2.1 in /usr/local/lib/python3.8/dist-packages (from matplotlib) (3.0.9)\n",
            "Requirement already satisfied: numpy>=1.19 in /usr/local/lib/python3.8/dist-packages (from matplotlib) (1.21.6)\n",
            "Collecting contourpy>=1.0.1\n",
            "  Downloading contourpy-1.0.7-cp38-cp38-manylinux_2_17_x86_64.manylinux2014_x86_64.whl (300 kB)\n",
            "\u001b[2K     \u001b[90m━━━━━━━━━━━━━━━━━━━━━━━━━━━━━━━━━━━━━━\u001b[0m \u001b[32m300.0/300.0 KB\u001b[0m \u001b[31m30.7 MB/s\u001b[0m eta \u001b[36m0:00:00\u001b[0m\n",
            "\u001b[?25hRequirement already satisfied: pillow>=6.2.0 in /usr/local/lib/python3.8/dist-packages (from matplotlib) (7.1.2)\n",
            "Requirement already satisfied: packaging>=20.0 in /usr/local/lib/python3.8/dist-packages (from matplotlib) (23.0)\n",
            "Requirement already satisfied: six>=1.5 in /usr/local/lib/python3.8/dist-packages (from python-dateutil>=2.7->matplotlib) (1.15.0)\n",
            "Installing collected packages: fonttools, contourpy, matplotlib\n",
            "  Attempting uninstall: matplotlib\n",
            "    Found existing installation: matplotlib 3.2.2\n",
            "    Uninstalling matplotlib-3.2.2:\n",
            "      Successfully uninstalled matplotlib-3.2.2\n",
            "Successfully installed contourpy-1.0.7 fonttools-4.38.0 matplotlib-3.6.3\n"
          ]
        },
        {
          "output_type": "display_data",
          "data": {
            "application/vnd.colab-display-data+json": {
              "pip_warning": {
                "packages": [
                  "matplotlib",
                  "mpl_toolkits"
                ]
              }
            }
          },
          "metadata": {}
        },
        {
          "output_type": "stream",
          "name": "stdout",
          "text": [
            "Looking in indexes: https://pypi.org/simple, https://us-python.pkg.dev/colab-wheels/public/simple/\n",
            "Requirement already satisfied: numpy in /usr/local/lib/python3.8/dist-packages (1.21.6)\n",
            "Collecting numpy\n",
            "  Downloading numpy-1.24.2-cp38-cp38-manylinux_2_17_x86_64.manylinux2014_x86_64.whl (17.3 MB)\n",
            "\u001b[2K     \u001b[90m━━━━━━━━━━━━━━━━━━━━━━━━━━━━━━━━━━━━━━━━\u001b[0m \u001b[32m17.3/17.3 MB\u001b[0m \u001b[31m22.7 MB/s\u001b[0m eta \u001b[36m0:00:00\u001b[0m\n",
            "\u001b[?25hInstalling collected packages: numpy\n",
            "  Attempting uninstall: numpy\n",
            "    Found existing installation: numpy 1.21.6\n",
            "    Uninstalling numpy-1.21.6:\n",
            "      Successfully uninstalled numpy-1.21.6\n",
            "\u001b[31mERROR: pip's dependency resolver does not currently take into account all the packages that are installed. This behaviour is the source of the following dependency conflicts.\n",
            "scipy 1.7.3 requires numpy<1.23.0,>=1.16.5, but you have numpy 1.24.2 which is incompatible.\n",
            "numba 0.56.4 requires numpy<1.24,>=1.18, but you have numpy 1.24.2 which is incompatible.\u001b[0m\u001b[31m\n",
            "\u001b[0mSuccessfully installed numpy-1.24.2\n",
            "Looking in indexes: https://pypi.org/simple, https://us-python.pkg.dev/colab-wheels/public/simple/\n",
            "Requirement already satisfied: mlxtend in /usr/local/lib/python3.8/dist-packages (0.14.0)\n",
            "Collecting mlxtend\n",
            "  Downloading mlxtend-0.21.0-py2.py3-none-any.whl (1.3 MB)\n",
            "\u001b[2K     \u001b[90m━━━━━━━━━━━━━━━━━━━━━━━━━━━━━━━━━━━━━━━━\u001b[0m \u001b[32m1.3/1.3 MB\u001b[0m \u001b[31m16.2 MB/s\u001b[0m eta \u001b[36m0:00:00\u001b[0m\n",
            "\u001b[?25hRequirement already satisfied: joblib>=0.13.2 in /usr/local/lib/python3.8/dist-packages (from mlxtend) (1.2.0)\n",
            "Requirement already satisfied: setuptools in /usr/local/lib/python3.8/dist-packages (from mlxtend) (57.4.0)\n",
            "Requirement already satisfied: scipy>=1.2.1 in /usr/local/lib/python3.8/dist-packages (from mlxtend) (1.7.3)\n",
            "Requirement already satisfied: pandas>=0.24.2 in /usr/local/lib/python3.8/dist-packages (from mlxtend) (1.3.5)\n",
            "Requirement already satisfied: matplotlib>=3.0.0 in /usr/local/lib/python3.8/dist-packages (from mlxtend) (3.6.3)\n",
            "Requirement already satisfied: numpy>=1.16.2 in /usr/local/lib/python3.8/dist-packages (from mlxtend) (1.24.2)\n",
            "Requirement already satisfied: scikit-learn>=1.0.2 in /usr/local/lib/python3.8/dist-packages (from mlxtend) (1.0.2)\n",
            "Requirement already satisfied: python-dateutil>=2.7 in /usr/local/lib/python3.8/dist-packages (from matplotlib>=3.0.0->mlxtend) (2.8.2)\n",
            "Requirement already satisfied: kiwisolver>=1.0.1 in /usr/local/lib/python3.8/dist-packages (from matplotlib>=3.0.0->mlxtend) (1.4.4)\n",
            "Requirement already satisfied: pyparsing>=2.2.1 in /usr/local/lib/python3.8/dist-packages (from matplotlib>=3.0.0->mlxtend) (3.0.9)\n",
            "Requirement already satisfied: cycler>=0.10 in /usr/local/lib/python3.8/dist-packages (from matplotlib>=3.0.0->mlxtend) (0.11.0)\n",
            "Requirement already satisfied: pillow>=6.2.0 in /usr/local/lib/python3.8/dist-packages (from matplotlib>=3.0.0->mlxtend) (7.1.2)\n",
            "Requirement already satisfied: contourpy>=1.0.1 in /usr/local/lib/python3.8/dist-packages (from matplotlib>=3.0.0->mlxtend) (1.0.7)\n",
            "Requirement already satisfied: packaging>=20.0 in /usr/local/lib/python3.8/dist-packages (from matplotlib>=3.0.0->mlxtend) (23.0)\n",
            "Requirement already satisfied: fonttools>=4.22.0 in /usr/local/lib/python3.8/dist-packages (from matplotlib>=3.0.0->mlxtend) (4.38.0)\n",
            "Requirement already satisfied: pytz>=2017.3 in /usr/local/lib/python3.8/dist-packages (from pandas>=0.24.2->mlxtend) (2022.7.1)\n",
            "Requirement already satisfied: threadpoolctl>=2.0.0 in /usr/local/lib/python3.8/dist-packages (from scikit-learn>=1.0.2->mlxtend) (3.1.0)\n",
            "Collecting numpy>=1.16.2\n",
            "  Downloading numpy-1.22.4-cp38-cp38-manylinux_2_17_x86_64.manylinux2014_x86_64.whl (16.9 MB)\n",
            "\u001b[2K     \u001b[90m━━━━━━━━━━━━━━━━━━━━━━━━━━━━━━━━━━━━━━━━\u001b[0m \u001b[32m16.9/16.9 MB\u001b[0m \u001b[31m79.5 MB/s\u001b[0m eta \u001b[36m0:00:00\u001b[0m\n",
            "\u001b[?25hRequirement already satisfied: six>=1.5 in /usr/local/lib/python3.8/dist-packages (from python-dateutil>=2.7->matplotlib>=3.0.0->mlxtend) (1.15.0)\n",
            "Installing collected packages: numpy, mlxtend\n",
            "  Attempting uninstall: numpy\n",
            "    Found existing installation: numpy 1.24.2\n",
            "    Uninstalling numpy-1.24.2:\n",
            "      Successfully uninstalled numpy-1.24.2\n",
            "  Attempting uninstall: mlxtend\n",
            "    Found existing installation: mlxtend 0.14.0\n",
            "    Uninstalling mlxtend-0.14.0:\n",
            "      Successfully uninstalled mlxtend-0.14.0\n",
            "Successfully installed mlxtend-0.21.0 numpy-1.22.4\n"
          ]
        },
        {
          "output_type": "display_data",
          "data": {
            "application/vnd.colab-display-data+json": {
              "pip_warning": {
                "packages": [
                  "numpy"
                ]
              }
            }
          },
          "metadata": {}
        }
      ]
    },
    {
      "cell_type": "code",
      "metadata": {
        "id": "Pjd95EQQemsH"
      },
      "source": [
        "# Importing libraries as aliases is done in the following manner\n",
        "# import Library as Lib\n",
        "\n",
        "# Numpy is used to perform mathematical operations on matrixes\n",
        "import numpy as np\n",
        "\n",
        "# Matplotlib is a visualization library  \n",
        "import matplotlib.pyplot as plt"
      ],
      "execution_count": 2,
      "outputs": []
    },
    {
      "cell_type": "markdown",
      "metadata": {
        "id": "tieiTfHcUZxw"
      },
      "source": [
        "#Data Creation\n",
        "Let's start by creating an interesting dataset, referred to as an XOR data."
      ]
    },
    {
      "cell_type": "code",
      "metadata": {
        "id": "MOJ5VSh3fGPZ"
      },
      "source": [
        "# data is an array which represents 4 different data clusters\n",
        "data = []\n",
        "# target holds information about which class each respective data points are from\n",
        "target = []\n",
        "\n",
        "# Here we are just instantiating random points at 4 different places in the graph space\n",
        "for i in range(2):\n",
        "  for j in range(2):\n",
        "    for _ in range(100):\n",
        "      if (i+j)%2==0:\n",
        "        data.append([np.random.normal(0, 0.1) + i, np.random.normal(0, 0.1) + j])\n",
        "        target.append([0])\n",
        "      else:  \n",
        "        data.append([np.random.normal(0, 0.1) + i, np.random.normal(0, 0.1)+ j] )\n",
        "        target.append([1])"
      ],
      "execution_count": 3,
      "outputs": []
    },
    {
      "cell_type": "code",
      "metadata": {
        "id": "_ALOu7QKf_Pz",
        "outputId": "3efcaa78-ae88-4c67-89fd-baa74529e78c",
        "colab": {
          "base_uri": "https://localhost:8080/",
          "height": 282
        }
      },
      "source": [
        "!pip install matplotlib==3.1.3 -q\n",
        "# Visualizing the data; plt.scatter creates a scatter plot\n",
        "for i in range(len(data)):\n",
        "  if target[i][0] == 0:\n",
        "    plt.scatter(data[i][0] ,data[i][1] , c='#F15156', marker = 's', edgecolor = 'black')\n",
        "  else:\n",
        "    plt.scatter(data[i][0] ,data[i][1] , c='#FFBD00', marker = '^', edgecolor = 'black')\n",
        "\n",
        "plt.show()"
      ],
      "execution_count": 4,
      "outputs": [
        {
          "output_type": "stream",
          "name": "stdout",
          "text": [
            "\u001b[2K     \u001b[90m━━━━━━━━━━━━━━━━━━━━━━━━━━━━━━━━━━━━━━━━\u001b[0m \u001b[32m13.1/13.1 MB\u001b[0m \u001b[31m52.2 MB/s\u001b[0m eta \u001b[36m0:00:00\u001b[0m\n",
            "\u001b[?25h"
          ]
        },
        {
          "output_type": "display_data",
          "data": {
            "text/plain": [
              "<Figure size 432x288 with 1 Axes>"
            ],
            "image/png": "[encoded data removed]"
          },
          "metadata": {
            "needs_background": "light"
          }
        }
      ]
    },
    {
      "cell_type": "code",
      "metadata": {
        "id": "H5OzHI8tix_8",
        "outputId": "6cdbaa0b-04b4-46ec-a0f7-75699bc36239",
        "colab": {
          "base_uri": "https://localhost:8080/"
        }
      },
      "source": [
        "# Next, we recast the python lists above as np.array because\n",
        "# NumPy arrays are faster and more compact than python lists.\n",
        "# Here we prepare two arrays of the data we created for ease of use \n",
        "# as a dataset for the machine learning model we will use\n",
        "\n",
        "data = np.array(data)\n",
        "print(\"Shape of the input data\", data.shape)\n",
        "\n",
        "target = np.array(target)\n",
        "print(\"Shape of the output data\", target.shape)"
      ],
      "execution_count": 5,
      "outputs": [
        {
          "output_type": "stream",
          "name": "stdout",
          "text": [
            "Shape of the input data (400, 2)\n",
            "Shape of the output data (400, 1)\n"
          ]
        }
      ]
    },
    {
      "cell_type": "markdown",
      "metadata": {
        "id": "-GvU8ZoTbshq"
      },
      "source": [
        "# Linear Machine Learning models\n",
        "Linear models are the simplest of machine learning models that are based on estimating the \"line of best fit\" through the data that is provided.\n",
        "\n",
        "Intuitively, this simply means answering the question: is there a line that will best summarize or separate this data?"
      ]
    },
    {
      "cell_type": "code",
      "metadata": {
        "id": "OnR1Zm2Oh9pE"
      },
      "source": [
        "# Scikit-Learn is a Python library which has higher-level \n",
        "# implementations of many machine learning algorithms.\n",
        "# Scikit-Learn makes it easy to define a machine learning model \n",
        "# and then fit it to given data.\n",
        "from sklearn.linear_model import LinearRegression"
      ],
      "execution_count": 6,
      "outputs": []
    },
    {
      "cell_type": "markdown",
      "metadata": {
        "id": "4hoJFyow4Ukq"
      },
      "source": [
        "## Linear Regression Example\n",
        "\n",
        "Let's build a linear regression model and \"fit\" it to the XOR data we defined above.\n",
        "\n",
        "In the block below, `reg` is our model definition.\n",
        "\n",
        "(A similar syntax can be used to define other classification or clustering using the sklearn library. You will see it being used below when we explore two other linear models: `perceptron` for classification; and `K-means` for clustering.)"
      ]
    },
    {
      "cell_type": "code",
      "metadata": {
        "id": "mwJ6Z-jejoUy",
        "outputId": "85087205-0210-4a60-ea05-dcabb6de4982",
        "colab": {
          "base_uri": "https://localhost:8080/"
        }
      },
      "source": [
        "reg = LinearRegression().fit(data, target)\n",
        "print(reg.score(data, target))\n",
        "print(reg.coef_)\n",
        "print(reg.intercept_)"
      ],
      "execution_count": 7,
      "outputs": [
        {
          "output_type": "stream",
          "name": "stdout",
          "text": [
            "8.171166002857166e-05\n",
            "[[-0.00196842 -0.00878915]]\n",
            "[0.50539891]\n"
          ]
        }
      ]
    },
    {
      "cell_type": "markdown",
      "metadata": {
        "id": "3AUY8pN6FaJ5"
      },
      "source": [
        "## Question 1\n",
        "\n",
        "Check out the Linear Regression [documentation](https://scikit-learn.org/stable/modules/generated/sklearn.linear_model.LinearRegression.html) and explain what do `.score()`, `.coef_`, and `.intercept_` in the above cell mean?\n"
      ]
    },
    {
      "cell_type": "markdown",
      "metadata": {
        "id": "dQsKrYiJ39T2"
      },
      "source": [
        "### Answer 1\n",
        "\n",
        "`coef_` is estimated coefficients for the linear regression problem\n",
        "\n",
        "`intercept_` is an independent term in the linear model.\n",
        "\n",
        "linear equation like that : y = ax+b which (a) is coef_ and (b) is intercept\n",
        "\n",
        "`score` is the coefficient of determination of the prediction. as known as R2 which means that how far could the model fit the data"
      ]
    },
    {
      "cell_type": "markdown",
      "metadata": {
        "id": "ZaBacALQHBSA"
      },
      "source": [
        "## Visualization\n",
        "\n",
        "The code block below will visualize how well the linear regressor can separate the four classes we created.\n",
        "\n",
        "In a linear regression task, a line is used to separate a plane in two parts. This works very well if the data is linearly separable. See below and note that our data may not be as as easily summarized or separable with a single line --- casting doubt on whether a linear regressor such as a perceptron or a linear regression model may be able to succesfully model a dataset such as this.\n",
        "\n",
        "Note that sometimes given data may not be separable in the original feature space but there are tricks that can transform the data into another feature spaces, which can be LINEARLY separable.\n",
        "\n"
      ]
    },
    {
      "cell_type": "code",
      "metadata": {
        "id": "KWt0ykwZj3c8"
      },
      "source": [
        "for i in range(len(data)):  \n",
        "    plt.scatter(data[i][0], data[i][1], c=['#F15156', '#FFBD00'][target[i][0]], edgecolors='black', marker=['s', '^'][target[i][0]])\n",
        "\n",
        "# The plot makes it obvious \n",
        "# that this method does not classify the dataset properly into its classes\n",
        "# Before we expound on it, lets look at the perceptron, \n",
        "# or as we can also say, the earliest neural unit made    \n",
        "\n",
        "plt.axline(reg.coef_[0], slope = reg.intercept_)"
      ],
      "execution_count": null,
      "outputs": []
    },
    {
      "cell_type": "markdown",
      "metadata": {
        "id": "Zdlxo4dBCeZ1"
      },
      "source": [
        "#Fun Fact\n",
        "In the United States, there are about 350 spoken languages. But programming languages has us beat with over 700 coding languages in use today! Only two countries have more languages, Papua New Guinea (836) and Indonesia (710).\n",
        "\n",
        "Some programming languages, like Java, Python, and HTML, are more common, but others, like Rust and Kotlin, are used in very specific situations. The good news for programmers? Once you learn the big ones, the more niche languages come easily.\n",
        "\n",
        "There exist esoteric programming languages which do not serve any specific purpose always, for example LOLCODE, Chef, Piet and Whitespace. An esoteric programming language is a programming language designed to test the boundaries of computer programming language design, as a proof of concept, as software art, as a hacking interface to another (procedural or functional) programming language, or as a joke. Such languages are often popular among hackers and hobbyists."
      ]
    },
    {
      "cell_type": "markdown",
      "metadata": {
        "id": "hTuOeXrS3giU"
      },
      "source": [
        "#Tensorflow for Neural Network Modeling"
      ]
    },
    {
      "cell_type": "markdown",
      "metadata": {
        "id": "NhxMvjxbF9Wp"
      },
      "source": [
        "As usual, let's begin by importing the needed libraries: First,`TensorFlow`: it is an open source machine learning library for Python by Google. \n",
        "\n",
        "We also import `mlxtend`, a library used for various data science purposes. Here we have used it to visualize the learned boundaries of our neural network algorithm."
      ]
    },
    {
      "cell_type": "code",
      "metadata": {
        "id": "4CyoyvQBm0qk"
      },
      "source": [
        "import tensorflow as tf\n",
        "from mlxtend.plotting import plot_decision_regions"
      ],
      "execution_count": 9,
      "outputs": []
    },
    {
      "cell_type": "markdown",
      "source": [
        "We are using version 2.0 of Tensorflow. As of TensorFlow 2.0, Keras, which was a \"wrapper\" --- or abstraction layer creating ease of function use --- over TensorFlow 1.0, is fully incorporated in TensorFlow 2.0. "
      ],
      "metadata": {
        "id": "avX8XoGZJqow"
      }
    },
    {
      "cell_type": "markdown",
      "metadata": {
        "id": "3J_ahlCt-J5J"
      },
      "source": [
        "#Introduction to TensorFlow\n",
        "\n",
        "TensorFlow is a open source python library made towards building, training and deploying deep neural networks. TensorFlow has a toolkit for visualizing its neural networks called TensorBoard.\n",
        "\n",
        "TensorFlow 1.0.0 is Google's end-to-end open source platform for machine learning. There are versions of TensorFlow in JavaScript as well called Tensorflow.js. It is availabe on Linux, MacOS and Windows. Google released TensorFlow Lite specifically for mobile application development.\n",
        "\n",
        "We will use TensorFlow 2.6, which incorporates various third party libraries within TensorFlow itself. The Keras wrapper for TensorFlow is now a TensorFlow module. There are cross compatibilities to code written in TensorFlow 1.0.\n",
        "\n",
        "What follows can be considered to be a gentle introduction to TensorFlow for the purposes of this program.\n",
        "\n",
        "Following this primer, for further learning, check out the following offering by Google: https://developers.google.com/machine-learning/crash-course/first-steps-with-tensorflow/toolkit"
      ]
    },
    {
      "cell_type": "markdown",
      "metadata": {
        "id": "qPF9BOudB2ZQ"
      },
      "source": [
        "#What are tensors?\n",
        "\n",
        "Tensors are multi-dimensional arrays with a uniform type (called a `dtype`). You can see all supported dtypes at `tf.dtypes.DType`.\n",
        "\n",
        " Tensors are like `numpy.ndarray`, which has a data type and a shape.\n",
        " \n",
        "Native Python types are automatically converted to tensors by Tensorflow.\n",
        "\n",
        "In the codeblock below, we demonstrate various Tensorflow functions. Besides those, Tensorflow functions also include: \n",
        "* `subtract(x, y, name=None)`\tSubtracts two tensors\n",
        "* `divide(x, y, name=None)`\tDivides the elements of two tensors\n",
        "* `add_n(inputs, name=None)`\tAdds multiple tensors\n",
        "* `mod(x, y, name=None)`\tPerforms the modulo operation\n",
        "* `abs(x, name=None)`\tComputes the absolute value\n",
        "* `negative(x, name=None)`\tNegates the tensor’s elements\n",
        "* `sign(x, name=None)`\tExtracts the signs of the tensor’s element\n",
        "\n",
        "There are many other mathematical functions you can check out at: https://www.tensorflow.org/api_docs/python/tf/math\n",
        "\n",
        "\n"
      ]
    },
    {
      "cell_type": "code",
      "metadata": {
        "id": "x55Q6NsjB1Ma",
        "outputId": "b4cec3a8-7583-4e9f-cfc6-0d9799e9bcd8",
        "colab": {
          "base_uri": "https://localhost:8080/"
        }
      },
      "source": [
        "# You can create a tensor as follows\n",
        "print(\"Tensor:\", tf.constant([4, 5, 6]))\n",
        "\n",
        "# When two whole numbers are given to a Tensorflow function, it produces a tensor with the solution \n",
        "print(\"Scalar Addition:\", tf.add(1, 2))\n",
        "\n",
        "# A list given to the same function creates a tensor, treating the two lists as matrices\n",
        "print(\"Matrix Addition:\", tf.add([1, 2], [3, 4]))\n",
        "\n",
        "# All basic mathematical functions still work as would be expected, just with tensor outputs\n",
        "print(\"Squaring:\", tf.square(5))\n",
        "\n",
        "# The tf.reduce_sum() function reduces the dimensionality of a list given to it and sums all the elements\n",
        "print(\"Dimension-wise Addition:\", tf.reduce_sum([1, 2, 3]))\n",
        "\n",
        "# We can treat tensors as other forms of arrays or numbers within python functions\n",
        "print(\"+ Operator Overriding:\", tf.square(2) + tf.square(3))"
      ],
      "execution_count": 13,
      "outputs": [
        {
          "output_type": "stream",
          "name": "stdout",
          "text": [
            "Tensor: tf.Tensor([4 5 6], shape=(3,), dtype=int32)\n",
            "Scalar Addition: tf.Tensor(3, shape=(), dtype=int32)\n",
            "Matrix Addition: tf.Tensor([4 6], shape=(2,), dtype=int32)\n",
            "Squaring: tf.Tensor(25, shape=(), dtype=int32)\n",
            "Dimension-wise Addition: tf.Tensor(6, shape=(), dtype=int32)\n",
            "+ Operator Overriding: tf.Tensor(13, shape=(), dtype=int32)\n"
          ]
        }
      ]
    },
    {
      "cell_type": "markdown",
      "metadata": {
        "id": "F0P9gvwSHGsy"
      },
      "source": [
        "\n",
        "\n",
        "A key function of Keras is the `models.Sequential()` function. You will use this function many times over the next several weeks. This function allows you to create neural network models layer-by-layer. \n",
        "\n",
        "Once you have instantiated a model using the `models.Sequential()` function, you can add each layer using `tf.kreas.models.add(tensor.shape)` in order to add a layer to the neural network.\n",
        "\n",
        "For clarity and ease of reading, you can do the above two steps of model instantiation and layer definition as separate lines of code.  Or, you can instantiate the model and define the model layers in a single line of code.\n",
        "```\n",
        "tf.keras.models.Sequential(tf.keras.Input(shape),\n",
        "                           tf.keras.layers.Dense(shape,activation),\n",
        "                           tf.keras.layers.Dense(1,activation))\n",
        "```\n",
        "\n",
        "The two code blocks below builds and complies a simple model. Carefully read through each line of code and the accompanying comments to understand what is happening at each step. "
      ]
    },
    {
      "cell_type": "code",
      "metadata": {
        "id": "k0_NiyyDnClj",
        "outputId": "89c56149-ba24-459c-8132-4b1565ebe993",
        "colab": {
          "base_uri": "https://localhost:8080/"
        }
      },
      "source": [
        "model = tf.keras.models.Sequential()\n",
        "# we have chosen layers which gradually thin down to one output \n",
        "# as we want to find out if the data sample is in one class or other\n",
        "# in other words our task is binary classification\n",
        "\n",
        "model.add(tf.keras.Input(shape=(2))) #shape indicates how many dimensions\n",
        "model.add(tf.keras.layers.Dense(100, activation='relu'))\n",
        "model.add(tf.keras.layers.Dense(50, activation='relu'))\n",
        "model.add(tf.keras.layers.Dense(1, activation='sigmoid'))\n",
        "model.summary()"
      ],
      "execution_count": 14,
      "outputs": [
        {
          "output_type": "stream",
          "name": "stdout",
          "text": [
            "Model: \"sequential\"\n",
            "_________________________________________________________________\n",
            " Layer (type)                Output Shape              Param #   \n",
            "=================================================================\n",
            " dense (Dense)               (None, 100)               300       \n",
            "                                                                 \n",
            " dense_1 (Dense)             (None, 50)                5050      \n",
            "                                                                 \n",
            " dense_2 (Dense)             (None, 1)                 51        \n",
            "                                                                 \n",
            "=================================================================\n",
            "Total params: 5,401\n",
            "Trainable params: 5,401\n",
            "Non-trainable params: 0\n",
            "_________________________________________________________________\n"
          ]
        }
      ]
    },
    {
      "cell_type": "code",
      "metadata": {
        "id": "1vijB54yoYb0",
        "outputId": "d7294148-dc45-43c8-c6ca-4f8bba0704f8",
        "colab": {
          "base_uri": "https://localhost:8080/"
        }
      },
      "source": [
        "model.compile(\n",
        "    # Indicate the optimizer to use:\n",
        "    # Optimizers are algorithms which minimize or maximize a mathematical expression\n",
        "    # In this case the loss function\n",
        "    # Other optimizers you can use are: Adam, SGD, Adagrad\n",
        "    optimizer=tf.keras.optimizers.RMSprop(),  \n",
        "\n",
        "    # Indicate the loss function to minimize:\n",
        "    # A loss function at the most basic level evaluates how badly a neural network performed\n",
        "    # i.e zero loss means perfect prediction \n",
        "    # The loss generated from a loss function is used by the optimizer \n",
        "    # to change the weights of a neuron to get better accuracy\n",
        "    # We use Binary Cross Entropy as we want to classify between two classes\n",
        "    loss=tf.keras.losses.BinaryCrossentropy(),\n",
        "    \n",
        "    # List of metrics to monitor:\n",
        "    # Metrics are a measure of performance of a neural network accuracy of classification\n",
        "    # based on how well a model performs by predicting properly \n",
        "    metrics=[tf.keras.metrics.BinaryAccuracy()],\n",
        ")\n",
        "print(data.shape)\n",
        "# tf.keras.models.fit() is a function that handles training a neural network \n",
        "# training based on the hyperparameters defined in the network layers\n",
        "# and in the optimizer, loss function and metrics defined\n",
        "model.fit(data, target, epochs = 5, batch_size=data.shape[0])"
      ],
      "execution_count": 15,
      "outputs": [
        {
          "output_type": "stream",
          "name": "stdout",
          "text": [
            "(400, 2)\n",
            "Epoch 1/5\n",
            "1/1 [==============================] - 1s 900ms/step - loss: 0.6879 - binary_accuracy: 0.2950\n",
            "Epoch 2/5\n",
            "1/1 [==============================] - 0s 10ms/step - loss: 0.6727 - binary_accuracy: 0.8400\n",
            "Epoch 3/5\n",
            "1/1 [==============================] - 0s 11ms/step - loss: 0.6628 - binary_accuracy: 0.9325\n",
            "Epoch 4/5\n",
            "1/1 [==============================] - 0s 15ms/step - loss: 0.6541 - binary_accuracy: 0.9575\n",
            "Epoch 5/5\n",
            "1/1 [==============================] - 0s 12ms/step - loss: 0.6454 - binary_accuracy: 0.9650\n"
          ]
        },
        {
          "output_type": "execute_result",
          "data": {
            "text/plain": [
              "<keras.callbacks.History at 0x7f80c8427220>"
            ]
          },
          "metadata": {},
          "execution_count": 15
        }
      ]
    },
    {
      "cell_type": "markdown",
      "metadata": {
        "id": "jLkU4hr-JEUt"
      },
      "source": [
        "## Question 2\n",
        "Compare the model in the code block below to the original deep model in the code block above. In the model below, we have added in 1 more layer and more nodes to the first 3 layers. And then we train the model for the same perieod as above, i.e., 5 epochs. (\"Epoch\" defines the number times that the learning algorithm will work through the entire training dataset.) \n",
        "\n",
        "Now consider **the loss** produced at each epoch during training the model above and the new model below. (Loss indicates the difference between model prediction and truth. Lower loss = better prediction). \n",
        "\n",
        "What is the effect of adding more layers and adding more nodes on the loss? Is the new model is likely to be more accurate than the original one above? \n"
      ]
    },
    {
      "cell_type": "code",
      "metadata": {
        "id": "88puanfCo_zo",
        "outputId": "ba98180d-fbf4-476f-bcc4-cc3be9638a2c",
        "colab": {
          "base_uri": "https://localhost:8080/"
        }
      },
      "source": [
        "# Define and instantiate model layers\n",
        "model = tf.keras.models.Sequential()\n",
        "model.add(tf.keras.Input(shape=(2)))\n",
        "#model.add(tf.keras.layers.Dense(250, activation='relu'))\n",
        "model.add(tf.keras.layers.Dense(200, activation='relu'))\n",
        "model.add(tf.keras.layers.Dense(150, activation='relu'))\n",
        "model.add(tf.keras.layers.Dense(100, activation='relu'))\n",
        "model.add(tf.keras.layers.Dense(50, activation='relu'))\n",
        "model.add(tf.keras.layers.Dense(1, activation='sigmoid'))\n",
        "model.summary()\n",
        "\n",
        "# Define optimizers, loss function and metrics\n",
        "\n",
        "model.compile(\n",
        "    optimizer=tf.keras.optimizers.RMSprop(),  \n",
        "    loss=tf.keras.losses.BinaryCrossentropy(),\n",
        "    metrics=[tf.keras.metrics.BinaryAccuracy()],\n",
        ")"
      ],
      "execution_count": 16,
      "outputs": [
        {
          "output_type": "stream",
          "name": "stdout",
          "text": [
            "Model: \"sequential_1\"\n",
            "_________________________________________________________________\n",
            " Layer (type)                Output Shape              Param #   \n",
            "=================================================================\n",
            " dense_3 (Dense)             (None, 200)               600       \n",
            "                                                                 \n",
            " dense_4 (Dense)             (None, 150)               30150     \n",
            "                                                                 \n",
            " dense_5 (Dense)             (None, 100)               15100     \n",
            "                                                                 \n",
            " dense_6 (Dense)             (None, 50)                5050      \n",
            "                                                                 \n",
            " dense_7 (Dense)             (None, 1)                 51        \n",
            "                                                                 \n",
            "=================================================================\n",
            "Total params: 50,951\n",
            "Trainable params: 50,951\n",
            "Non-trainable params: 0\n",
            "_________________________________________________________________\n"
          ]
        }
      ]
    },
    {
      "cell_type": "code",
      "metadata": {
        "id": "sGA9F2WKo_z3",
        "outputId": "bbe4c73f-f4f5-47d1-f597-24c54a7b1024",
        "colab": {
          "base_uri": "https://localhost:8080/"
        }
      },
      "source": [
        "# Fit model \n",
        "model.fit(data, target, epochs = 5, batch_size=data.shape[0])"
      ],
      "execution_count": 17,
      "outputs": [
        {
          "output_type": "stream",
          "name": "stdout",
          "text": [
            "Epoch 1/5\n",
            "1/1 [==============================] - 3s 3s/step - loss: 0.6988 - binary_accuracy: 0.5000\n",
            "Epoch 2/5\n",
            "1/1 [==============================] - 0s 20ms/step - loss: 0.6741 - binary_accuracy: 0.7200\n",
            "Epoch 3/5\n",
            "1/1 [==============================] - 0s 27ms/step - loss: 0.6515 - binary_accuracy: 0.9400\n",
            "Epoch 4/5\n",
            "1/1 [==============================] - 0s 17ms/step - loss: 0.6286 - binary_accuracy: 0.9675\n",
            "Epoch 5/5\n",
            "1/1 [==============================] - 0s 16ms/step - loss: 0.6015 - binary_accuracy: 0.9875\n"
          ]
        },
        {
          "output_type": "execute_result",
          "data": {
            "text/plain": [
              "<keras.callbacks.History at 0x7f80cd1a5ee0>"
            ]
          },
          "metadata": {},
          "execution_count": 17
        }
      ]
    },
    {
      "cell_type": "code",
      "metadata": {
        "id": "z57Rqhpao_z4",
        "outputId": "043ef261-a191-4f2f-d387-3c8e85696c5c",
        "colab": {
          "base_uri": "https://localhost:8080/",
          "height": 300
        }
      },
      "source": [
        "# Visualize learned boundaries\n",
        "plot_decision_regions(data, target.reshape(-1), clf=model, legend=2, colors = '#F15156,#FFBD00')"
      ],
      "execution_count": 18,
      "outputs": [
        {
          "output_type": "stream",
          "name": "stdout",
          "text": [
            "3888/3888 [==============================] - 6s 1ms/step\n"
          ]
        },
        {
          "output_type": "execute_result",
          "data": {
            "text/plain": [
              "<matplotlib.axes._subplots.AxesSubplot at 0x7f80cbb6ecd0>"
            ]
          },
          "metadata": {},
          "execution_count": 18
        },
        {
          "output_type": "display_data",
          "data": {
            "text/plain": [
              "<Figure size 432x288 with 1 Axes>"
            ],
            "image/png": "[encoded data removed]"
          },
          "metadata": {
            "needs_background": "light"
          }
        }
      ]
    },
    {
      "cell_type": "markdown",
      "metadata": {
        "id": "GrXCYDbFAWZ_"
      },
      "source": [
        "### Answer 2\n",
        "\n",
        "Yes, second model is better than the first one. beacuse the loss is more lower which it's better and the accuracy reached 98%. More layers mean more parameters which leaded to more learning."
      ]
    },
    {
      "cell_type": "markdown",
      "metadata": {
        "id": "UfRy7aDGx8vI"
      },
      "source": [
        "## Question 3\n",
        "\n",
        "If the answer to *Question 2* is *yes*, why do you think the new model is performing better than the original model? \n",
        "\n",
        "In the codeblock below, try adding one layer at a time and observe the effect of adding new layers. What do you think is the most number of layers, you can add to this model, to make it more accurate? \n"
      ]
    },
    {
      "cell_type": "code",
      "source": [
        "\"\"\" Try out your code for Question 3 here \"\"\"\n",
        "\n",
        "# Define and instantiate model layers\n",
        "model = tf.keras.models.Sequential()\n",
        "model.add(tf.keras.Input(shape=(2)))\n",
        "\n",
        "#try ADDING MORE LAYERS below and changing the number of nodes\n",
        "model.add(tf.keras.layers.Dense(200, activation='relu'))\n",
        "model.add(tf.keras.layers.Dense(100, activation='relu'))\n",
        "model.add(tf.keras.layers.Dense(50, activation='relu'))\n",
        "model.add(tf.keras.layers.Dense(25, activation='relu'))\n",
        "model.add(tf.keras.layers.Dense(10, activation='relu'))\n",
        "\n",
        "#add the classification layer\n",
        "model.add(tf.keras.layers.Dense(1, activation='sigmoid'))\n",
        "model.summary()\n",
        "\n",
        "# Define optimizers, loss function and metrics\n",
        "\n",
        "model.compile(\n",
        "    optimizer=tf.keras.optimizers.RMSprop(),  \n",
        "    loss=tf.keras.losses.BinaryCrossentropy(),\n",
        "    metrics=[tf.keras.metrics.BinaryAccuracy()],\n",
        ")\n",
        "\n",
        "# Fit model \n",
        "model.fit(data, target, epochs = 5, batch_size=data.shape[0])"
      ],
      "metadata": {
        "id": "V-DVJFych2xP",
        "outputId": "f5832b3c-8fb3-4c27-926c-3876d9521404",
        "colab": {
          "base_uri": "https://localhost:8080/"
        }
      },
      "execution_count": 24,
      "outputs": [
        {
          "output_type": "stream",
          "name": "stdout",
          "text": [
            "Model: \"sequential_7\"\n",
            "_________________________________________________________________\n",
            " Layer (type)                Output Shape              Param #   \n",
            "=================================================================\n",
            " dense_31 (Dense)            (None, 200)               600       \n",
            "                                                                 \n",
            " dense_32 (Dense)            (None, 100)               20100     \n",
            "                                                                 \n",
            " dense_33 (Dense)            (None, 50)                5050      \n",
            "                                                                 \n",
            " dense_34 (Dense)            (None, 25)                1275      \n",
            "                                                                 \n",
            " dense_35 (Dense)            (None, 10)                260       \n",
            "                                                                 \n",
            " dense_36 (Dense)            (None, 1)                 11        \n",
            "                                                                 \n",
            "=================================================================\n",
            "Total params: 27,296\n",
            "Trainable params: 27,296\n",
            "Non-trainable params: 0\n",
            "_________________________________________________________________\n",
            "Epoch 1/5\n",
            "1/1 [==============================] - 1s 918ms/step - loss: 0.6900 - binary_accuracy: 0.5550\n",
            "Epoch 2/5\n",
            "1/1 [==============================] - 0s 15ms/step - loss: 0.6781 - binary_accuracy: 0.7600\n",
            "Epoch 3/5\n",
            "1/1 [==============================] - 0s 11ms/step - loss: 0.6625 - binary_accuracy: 1.0000\n",
            "Epoch 4/5\n",
            "1/1 [==============================] - 0s 11ms/step - loss: 0.6513 - binary_accuracy: 0.9725\n",
            "Epoch 5/5\n",
            "1/1 [==============================] - 0s 12ms/step - loss: 0.6317 - binary_accuracy: 0.9950\n"
          ]
        },
        {
          "output_type": "execute_result",
          "data": {
            "text/plain": [
              "<keras.callbacks.History at 0x7f80c072bbb0>"
            ]
          },
          "metadata": {},
          "execution_count": 24
        }
      ]
    },
    {
      "cell_type": "markdown",
      "metadata": {
        "id": "U_IQzmHM7ni9"
      },
      "source": [
        "### Answer 3\n",
        "I see that by adding more layers with different number of nodes, the accuracy is not stabled like that ![image.png](data:image/png;base64,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)\n",
        "\n",
        "so after trying many times, finally I reached 99% accuracy by adding layers which their neurons are the half of the last one"
      ]
    },
    {
      "cell_type": "markdown",
      "metadata": {
        "id": "RRROAtgMyEn9"
      },
      "source": [
        "## Question 4\n",
        "\n",
        "Remember that this task, our goal was to separate the data into two classes (one class of yellow triangles and oen class of red squares.) \n",
        "\n",
        "Now look at the last layer of the model you build: `model.add(tf.keras.layers.Dense(1, activation='sigmoid'))`. \n",
        "\n",
        "It is the classification layer. Here we are are using a [`sigmoid` activation function](https://towardsdatascience.com/activation-functions-neural-networks-1cbd9f8d91d6), and 1 output node. \n",
        "\n",
        "A sigmoid output is a probability. Since probability of anything exists only in the range of 0 and 1, sigmoid is the right choice for our dataset which only has two output targets (0 or 1). A threshold (or cutoff probability) defined by the model learns what probability it is being either class. \n",
        "\n",
        "Now consider another activation function `softmax`. It is a more generalized logistic activation function which is used for multi-class classification.\n",
        "\n",
        "Now, try something in the code block above. Instead of `sigmoid`, if we were to replace it with `softmax`, what change would we need to make to number of neurons?\n",
        "\n",
        "Do we need to use softmax for this problem or is sigmoid sufficient? Why?\n"
      ]
    },
    {
      "cell_type": "markdown",
      "metadata": {
        "id": "0lV2NpxH-toM"
      },
      "source": [
        "### Answer 4\n",
        "\n",
        "if we changed the activation function from sigmoid to softmax, we need to change the number of units from 1 to 2 units. Because softmax returns probability distribution of each category."
      ]
    },
    {
      "cell_type": "markdown",
      "metadata": {
        "id": "uHpS9-0e-U3n"
      },
      "source": [
        "#Loading Datasets and Preprocessing the Data\n",
        "The MNIST dataset — often used as the \"Hello, World\" of machine learning programs for computer vision — contains images of handwritten digits (0, 1, 2, etc.). A drop-in replacement for this classic MNIST dataset is Fashion MNIST, which is a dataset of images of articles of clothing. \n",
        "\n",
        "We use Fashion MNIST for variety, and because it's a slightly more challenging problem than regular MNIST. Both datasets are relatively small and are used to verify that an algorithm works as expected. They're good starting points to test and debug code.\n",
        "\n",
        "Tensorflow has these datasets inbuilt in it. You would call the classic numbers MNIST dataset as `tf.keras.datasets.mnist` and the fashion MNIST dataset as `tf.keras.datasets.fashion_mnist`."
      ]
    },
    {
      "cell_type": "code",
      "metadata": {
        "id": "_8hfKXPR-HWo",
        "outputId": "17f4649e-d385-42f9-b3ac-7ea58f8d877c",
        "colab": {
          "base_uri": "https://localhost:8080/"
        }
      },
      "source": [
        "fashion_mnist = tf.keras.datasets.fashion_mnist\n",
        "(train_images, train_labels), (test_images, test_labels) = fashion_mnist.load_data()"
      ],
      "execution_count": 25,
      "outputs": [
        {
          "output_type": "stream",
          "name": "stdout",
          "text": [
            "Downloading data from https://storage.googleapis.com/tensorflow/tf-keras-datasets/train-labels-idx1-ubyte.gz\n",
            "29515/29515 [==============================] - 0s 0us/step\n",
            "Downloading data from https://storage.googleapis.com/tensorflow/tf-keras-datasets/train-images-idx3-ubyte.gz\n",
            "26421880/26421880 [==============================] - 0s 0us/step\n",
            "Downloading data from https://storage.googleapis.com/tensorflow/tf-keras-datasets/t10k-labels-idx1-ubyte.gz\n",
            "5148/5148 [==============================] - 0s 0us/step\n",
            "Downloading data from https://storage.googleapis.com/tensorflow/tf-keras-datasets/t10k-images-idx3-ubyte.gz\n",
            "4422102/4422102 [==============================] - 0s 0us/step\n"
          ]
        }
      ]
    },
    {
      "cell_type": "code",
      "metadata": {
        "id": "mWO_nryhCINp"
      },
      "source": [
        "class_names = ['T-shirt/top', 'Trouser', 'Pullover', 'Dress', 'Coat', 'Sandal', 'Shirt', 'Sneaker', 'Bag', 'Ankle boot']"
      ],
      "execution_count": 26,
      "outputs": []
    },
    {
      "cell_type": "code",
      "metadata": {
        "id": "F6Fe7bkxCI4m",
        "outputId": "32844331-5324-4358-8134-72ac7d9c70b8",
        "colab": {
          "base_uri": "https://localhost:8080/"
        }
      },
      "source": [
        "# Separating data into train and test samples is one of the first steps of model development\n",
        "\n",
        "# We see the shape of this dataset, 60,000 images of 28x28 pixels\n",
        "print(\"Shape of train samples:\", train_images.shape)\n",
        "\n",
        "# Each sample is within the range of 0 to 9\n",
        "print(\"Range of train and test samples:\", train_labels)\n",
        "\n",
        "# There are 10,000 images, again of 28x28 pixels\n",
        "print(\"Shape of test samples:\" , test_images.shape)\n",
        "\n",
        "# A common split of train to test samples is 80/20 but here the train:test ratio is 6:1  "
      ],
      "execution_count": 27,
      "outputs": [
        {
          "output_type": "stream",
          "name": "stdout",
          "text": [
            "Shape of train samples: (60000, 28, 28)\n",
            "Range of train and test samples: [9 0 0 ... 3 0 5]\n",
            "Shape of test samples: (10000, 28, 28)\n"
          ]
        }
      ]
    },
    {
      "cell_type": "markdown",
      "metadata": {
        "id": "eodXh334em1z"
      },
      "source": [
        "The data must be preprocessed before training the network. If you inspect the first image in the training set, you will see that the pixel values fall in the range of 0 to 255."
      ]
    },
    {
      "cell_type": "code",
      "metadata": {
        "id": "-vM64b8JCZRZ",
        "outputId": "d2079ca9-0689-45c2-d82f-2956deec56b0",
        "colab": {
          "base_uri": "https://localhost:8080/",
          "height": 265
        }
      },
      "source": [
        "plt.figure()\n",
        "plt.imshow(train_images[0])\n",
        "plt.colorbar()\n",
        "plt.grid(False)\n",
        "plt.show()"
      ],
      "execution_count": 28,
      "outputs": [
        {
          "output_type": "display_data",
          "data": {
            "text/plain": [
              "<Figure size 432x288 with 2 Axes>"
            ],
            "image/png": "[encoded data removed]"
          },
          "metadata": {
            "needs_background": "light"
          }
        }
      ]
    },
    {
      "cell_type": "markdown",
      "metadata": {
        "id": "29JgwOxWehSu"
      },
      "source": [
        "Scale these values to a range of 0 to 1 before feeding them to the neural network model. To do so, divide the values by 255. It's important that the training set and the testing set be preprocessed in the same way."
      ]
    },
    {
      "cell_type": "code",
      "metadata": {
        "id": "TXEnod-KCcBc"
      },
      "source": [
        "train_images = train_images / 255.0\n",
        "\n",
        "test_images = test_images / 255.0"
      ],
      "execution_count": 29,
      "outputs": []
    },
    {
      "cell_type": "markdown",
      "metadata": {
        "id": "dtspILN7eupH"
      },
      "source": [
        "## Question 5\n",
        "\n",
        "Internet research time! Do some web search and answer these two questions: \n",
        "\n",
        "1) Why do we scale these values to a range between 0 and 1? \n",
        "\n",
        "2) What would happen if we just directly fed these values to the neural network?\n"
      ]
    },
    {
      "cell_type": "markdown",
      "metadata": {
        "id": "8M_Ycn3__YQN"
      },
      "source": [
        "### Answer 5\n",
        "\n",
        "**1) Why do we scale these values to a range between 0 and 1?**\n",
        "We scale down the images before feeding it into the network in order to reduce the number of parameters. When the number of parameters are high, we tend to increase the requirement of computation power. it speeds up the training. It can also sometimes help you find better local optima i.e., improve model performance.\n",
        "\n",
        "**2) What would happen if we just directly fed these values to the neural network?**\n",
        "\n",
        "If we didn't scale our input training vectors, the ranges of our distributions of feature values would likely be different for each feature."
      ]
    },
    {
      "cell_type": "markdown",
      "metadata": {
        "id": "KLUF2OiqfU3M"
      },
      "source": [
        "To verify that the data is in the correct format and that you're ready to build and train the network, let's display the first 25 images from the training set and display the class name below each image."
      ]
    },
    {
      "cell_type": "code",
      "metadata": {
        "id": "Po05t0uUCd4v",
        "outputId": "a19f78cc-7e1b-44ff-d727-ee07f5652dc2",
        "colab": {
          "base_uri": "https://localhost:8080/",
          "height": 589
        }
      },
      "source": [
        "plt.figure(figsize=(10,10))\n",
        "for i in range(25):\n",
        "    plt.subplot(5,5,i+1)\n",
        "    plt.xticks([])\n",
        "    plt.yticks([])\n",
        "    plt.grid(False)\n",
        "    plt.imshow(train_images[i], cmap=plt.cm.binary)\n",
        "    plt.xlabel(class_names[train_labels[i]])\n",
        "plt.show()"
      ],
      "execution_count": 30,
      "outputs": [
        {
          "output_type": "display_data",
          "data": {
            "text/plain": [
              "<Figure size 720x720 with 25 Axes>"
            ],
            "image/png": "[encoded data removed]"
          },
          "metadata": {}
        }
      ]
    },
    {
      "cell_type": "markdown",
      "metadata": {
        "id": "P0QVTVLXdzPM"
      },
      "source": [
        "# Fun fact \n",
        "\n",
        "Did you know about the Japanese confectionery shop that employed a machine learning scientist to automate sorting and billing of their 100s of types of pastries?  And later that same model was used to succesfully find cancer symptoms in patients tissue, as apparently that tissue under an MRI looks like pastries. Read about it in this [New Yorker article](https://www.newyorker.com/tech/annals-of-technology/the-pastry-ai-that-learned-to-fight-cancer).\n"
      ]
    },
    {
      "cell_type": "markdown",
      "metadata": {
        "id": "oikIfaAg-udD"
      },
      "source": [
        "#Build a simple (fairly shallow) neural network learning model\n",
        "\n",
        "The first layer in the network below is `tf.keras.layers.Flatten`. It transforms the format of the images from a two-dimensional array (of 28 by 28 pixels) to a one-dimensional array (of 28 * 28 = 784 pixels). Think of this layer as unstacking rows of pixels in the image and lining them up into a single row. This layer has no parameters to learn; it only reformats the data.\n",
        "\n",
        "The second layer of this model is a `tf.keras.layers.Dense` layer, which is a fully connected feed forward layer, that is often used for changing the dimensions of the feature vectors or to apply various operations to the latter.\n",
        "\n",
        "The third layer is also a `tf.keras.layers.Dense` layer with 10 nodes,  corresponding to one of each classes. "
      ]
    },
    {
      "cell_type": "code",
      "metadata": {
        "id": "Q2hDprIj-sC7"
      },
      "source": [
        "model = tf.keras.Sequential([\n",
        "    tf.keras.layers.Flatten(input_shape=(28, 28)),\n",
        "    tf.keras.layers.Dense(128, activation='relu'),\n",
        "    tf.keras.layers.Dense(10)\n",
        "])"
      ],
      "execution_count": 31,
      "outputs": []
    },
    {
      "cell_type": "markdown",
      "metadata": {
        "id": "6hGHkpZhiMo7"
      },
      "source": [
        "Let's briefly talk about optimizers and loss functions. \n",
        "\n",
        "There is a concept of momentum in machine learning along with gradient descent that accumulates the gradient of the past steps to determine where to go in the potential space of the loss function, instead of only using current gradient to select where to go in that space.\n",
        "\n",
        "With `RMSprop` (Root mean squared propogation) optimizer, that momentum reaches much higher values before it changes any direction. `RMSprop` is more often used with recurrent neural networks.\n",
        "\n",
        "While `Adam` (derived from \"adaptive moment estimation\") is slower to change its direction, and then much slower to get back to the minimum. `Adam` can handle sparse datasets for noisy problems, which often suits image estimation problems well. \n",
        "\n"
      ]
    },
    {
      "cell_type": "code",
      "metadata": {
        "id": "Rpyreag3ATnX"
      },
      "source": [
        "model.compile(optimizer='adam',\n",
        "              loss=tf.keras.losses.SparseCategoricalCrossentropy(from_logits=True),\n",
        "              metrics=['accuracy'])"
      ],
      "execution_count": 32,
      "outputs": []
    },
    {
      "cell_type": "markdown",
      "metadata": {
        "id": "CX3OPda-AdDF"
      },
      "source": [
        "#Train and Evaluate Model\n",
        "\n",
        "Irrespective of the input type, the process and functions for training a TensorFlow model is fairly similar for most types of classification models."
      ]
    },
    {
      "cell_type": "code",
      "metadata": {
        "id": "p1WfJfkDAvr3",
        "outputId": "944e799d-a165-4f74-d675-3424e8bf26ce",
        "colab": {
          "base_uri": "https://localhost:8080/"
        }
      },
      "source": [
        "model.fit(  train_images, train_labels, epochs=30)"
      ],
      "execution_count": 33,
      "outputs": [
        {
          "output_type": "stream",
          "name": "stdout",
          "text": [
            "Epoch 1/30\n",
            "1875/1875 [==============================] - 6s 3ms/step - loss: 0.4955 - accuracy: 0.8258\n",
            "Epoch 2/30\n",
            "1875/1875 [==============================] - 6s 3ms/step - loss: 0.3739 - accuracy: 0.8658\n",
            "Epoch 3/30\n",
            "1875/1875 [==============================] - 6s 3ms/step - loss: 0.3347 - accuracy: 0.8772\n",
            "Epoch 4/30\n",
            "1875/1875 [==============================] - 6s 3ms/step - loss: 0.3141 - accuracy: 0.8852\n",
            "Epoch 5/30\n",
            "1875/1875 [==============================] - 7s 4ms/step - loss: 0.2944 - accuracy: 0.8913\n",
            "Epoch 6/30\n",
            "1875/1875 [==============================] - 5s 3ms/step - loss: 0.2804 - accuracy: 0.8958\n",
            "Epoch 7/30\n",
            "1875/1875 [==============================] - 7s 4ms/step - loss: 0.2680 - accuracy: 0.9000\n",
            "Epoch 8/30\n",
            "1875/1875 [==============================] - 5s 3ms/step - loss: 0.2559 - accuracy: 0.9043\n",
            "Epoch 9/30\n",
            "1875/1875 [==============================] - 5s 3ms/step - loss: 0.2477 - accuracy: 0.9078\n",
            "Epoch 10/30\n",
            "1875/1875 [==============================] - 7s 4ms/step - loss: 0.2387 - accuracy: 0.9114\n",
            "Epoch 11/30\n",
            "1875/1875 [==============================] - 5s 3ms/step - loss: 0.2318 - accuracy: 0.9122\n",
            "Epoch 12/30\n",
            "1875/1875 [==============================] - 7s 4ms/step - loss: 0.2223 - accuracy: 0.9167\n",
            "Epoch 13/30\n",
            "1875/1875 [==============================] - 5s 3ms/step - loss: 0.2151 - accuracy: 0.9190\n",
            "Epoch 14/30\n",
            "1875/1875 [==============================] - 6s 3ms/step - loss: 0.2094 - accuracy: 0.9210\n",
            "Epoch 15/30\n",
            "1875/1875 [==============================] - 6s 3ms/step - loss: 0.2026 - accuracy: 0.9241\n",
            "Epoch 16/30\n",
            "1875/1875 [==============================] - 5s 3ms/step - loss: 0.1975 - accuracy: 0.9263\n",
            "Epoch 17/30\n",
            "1875/1875 [==============================] - 8s 4ms/step - loss: 0.1929 - accuracy: 0.9270\n",
            "Epoch 18/30\n",
            "1875/1875 [==============================] - 6s 3ms/step - loss: 0.1880 - accuracy: 0.9302\n",
            "Epoch 19/30\n",
            "1875/1875 [==============================] - 7s 4ms/step - loss: 0.1819 - accuracy: 0.9318\n",
            "Epoch 20/30\n",
            "1875/1875 [==============================] - 5s 3ms/step - loss: 0.1771 - accuracy: 0.9341\n",
            "Epoch 21/30\n",
            "1875/1875 [==============================] - 6s 3ms/step - loss: 0.1744 - accuracy: 0.9354\n",
            "Epoch 22/30\n",
            "1875/1875 [==============================] - 6s 3ms/step - loss: 0.1676 - accuracy: 0.9376\n",
            "Epoch 23/30\n",
            "1875/1875 [==============================] - 5s 3ms/step - loss: 0.1653 - accuracy: 0.9381\n",
            "Epoch 24/30\n",
            "1875/1875 [==============================] - 7s 4ms/step - loss: 0.1616 - accuracy: 0.9383\n",
            "Epoch 25/30\n",
            "1875/1875 [==============================] - 5s 3ms/step - loss: 0.1573 - accuracy: 0.9400\n",
            "Epoch 26/30\n",
            "1875/1875 [==============================] - 6s 3ms/step - loss: 0.1549 - accuracy: 0.9424\n",
            "Epoch 27/30\n",
            "1875/1875 [==============================] - 6s 3ms/step - loss: 0.1509 - accuracy: 0.9432\n",
            "Epoch 28/30\n",
            "1875/1875 [==============================] - 5s 3ms/step - loss: 0.1484 - accuracy: 0.9442\n",
            "Epoch 29/30\n",
            "1875/1875 [==============================] - 7s 4ms/step - loss: 0.1459 - accuracy: 0.9452\n",
            "Epoch 30/30\n",
            "1875/1875 [==============================] - 5s 3ms/step - loss: 0.1414 - accuracy: 0.9462\n"
          ]
        },
        {
          "output_type": "execute_result",
          "data": {
            "text/plain": [
              "<keras.callbacks.History at 0x7f80c0125d90>"
            ]
          },
          "metadata": {},
          "execution_count": 33
        }
      ]
    },
    {
      "cell_type": "markdown",
      "source": [
        "#Model evaluation\n",
        "Once the model has been trained, we evaluate how well the model performs on the test set (sometimes called the held-out set). See the Tensorflow function call for performing this evaluation."
      ],
      "metadata": {
        "id": "oozTGG72WQqh"
      }
    },
    {
      "cell_type": "code",
      "metadata": {
        "id": "vQFj7ikMCrC3",
        "outputId": "47d12563-edff-4c4d-d534-91855611be5a",
        "colab": {
          "base_uri": "https://localhost:8080/"
        }
      },
      "source": [
        "test_loss, test_acc = model.evaluate(test_images,  test_labels, verbose=2)\n",
        "\n",
        "print('\\nTest accuracy:', test_acc)"
      ],
      "execution_count": 34,
      "outputs": [
        {
          "output_type": "stream",
          "name": "stdout",
          "text": [
            "313/313 - 1s - loss: 0.3949 - accuracy: 0.8868 - 636ms/epoch - 2ms/step\n",
            "\n",
            "Test accuracy: 0.8867999911308289\n"
          ]
        }
      ]
    },
    {
      "cell_type": "markdown",
      "metadata": {
        "id": "Ml4mO1Bnq2O8"
      },
      "source": [
        "It turns out that the accuracy on the test dataset is a little less than the accuracy on the training dataset. This gap between training accuracy and test accuracy represents **overfitting**. Overfitting happens when a machine learning model performs worse on new, previously unseen inputs than it does on the training data. An overfitted model \"memorizes\" the noise and details in the training dataset to a point where it negatively impacts the performance of the model on the new data. "
      ]
    },
    {
      "cell_type": "markdown",
      "metadata": {
        "id": "yalAJVdJCtr_"
      },
      "source": [
        "#Making predictions using the trained model\n",
        "\n",
        "`tf.keras.layers.Dense` outputs values of a neuron getting fired up, and all those neurons map a certain input to a certain class. These values are called **logits**. Logits on their own are not bounded (as in don't have a range) and are less interpreteable (as to what the output value indicates).\n",
        "\n",
        "We normalize the output of the last `tf.keras.layers.Dense` layer to the bounds of $[0, 1]$ using the `softmax` function. Softmax converts logits into **probabilities** for each class, such that when we add all the outputs the result is always 1. We will learn more about Softmax on Day 10."
      ]
    },
    {
      "cell_type": "code",
      "metadata": {
        "id": "_qerbT1ZAzTZ"
      },
      "source": [
        "probability_model = tf.keras.Sequential([\n",
        "  model,\n",
        "  tf.keras.layers.Softmax()\n",
        "])"
      ],
      "execution_count": 35,
      "outputs": []
    },
    {
      "cell_type": "code",
      "metadata": {
        "id": "lB37O1UGA57n",
        "outputId": "ff95879a-e1bd-4d4d-a734-c13006317b5a",
        "colab": {
          "base_uri": "https://localhost:8080/"
        }
      },
      "source": [
        "#tf.predict predicts the label of each of the images in the test set.\n",
        "predictions = probability_model.predict(test_images)\n",
        "#For each image, the output is an array of 10 numbers. \n",
        "# They represent the model's \"confidence\"\n",
        "# that the image corresponds to each of the 10 different articles of clothing. \n",
        "# Let's look at the predictions of the zero-th image\n",
        "print(predictions[0],\"\\n\")"
      ],
      "execution_count": 36,
      "outputs": [
        {
          "output_type": "stream",
          "name": "stdout",
          "text": [
            "313/313 [==============================] - 1s 2ms/step\n",
            "[3.1074656e-08 5.3609493e-16 7.0073701e-14 1.0120266e-15 1.3160660e-10\n",
            " 1.8512002e-05 1.3288233e-11 2.3743782e-05 8.3783673e-09 9.9995762e-01] \n",
            "\n"
          ]
        }
      ]
    },
    {
      "cell_type": "code",
      "metadata": {
        "id": "utKovuCpsdrx",
        "outputId": "cc136110-2d18-4f11-a2df-d0baf62737b0",
        "colab": {
          "base_uri": "https://localhost:8080/"
        }
      },
      "source": [
        "# Let's look at which is the most likely label (aka, the prediction):\n",
        "# That is estimated by finding the position of the maximum confidence score \n",
        "# In the statement below, let's specifically look at what is predictedd for the zero-th image\n",
        "print(np.argmax(predictions[0]),\"\\n\")\n",
        "#Now let's look at which is the true label of the zero-th image\n",
        "print(test_labels[0],\"\\n\")\n",
        "#if they match, the prediction was correct!"
      ],
      "execution_count": 37,
      "outputs": [
        {
          "output_type": "stream",
          "name": "stdout",
          "text": [
            "9 \n",
            "\n",
            "9 \n",
            "\n"
          ]
        }
      ]
    },
    {
      "cell_type": "markdown",
      "metadata": {
        "id": "1sKT6RcnswIK"
      },
      "source": [
        "# Verifying predictions\n",
        "\n",
        "Let's plot several images with their predictions. Note that the model can be wrong even when very confident."
      ]
    },
    {
      "cell_type": "code",
      "metadata": {
        "id": "GFFt6bGQn8du"
      },
      "source": [
        "# Code to visualize results\n",
        "# go through each line of code and try to understand what it is doing\n",
        "\n",
        "def plot_image(i, predictions_array, true_label, img):\n",
        "  true_label, img = true_label[i], img[i]\n",
        "  plt.grid(False)\n",
        "  plt.xticks([])\n",
        "  plt.yticks([])\n",
        "\n",
        "  plt.imshow(img, cmap=plt.cm.binary)\n",
        "\n",
        "  predicted_label = np.argmax(predictions_array)\n",
        "  if predicted_label == true_label:\n",
        "    color = 'blue'\n",
        "  else:\n",
        "    color = 'red'\n",
        "\n",
        "  plt.xlabel(\"{} {:2.0f}% ({})\".format(class_names[predicted_label],\n",
        "                                100*np.max(predictions_array),\n",
        "                                class_names[true_label]),\n",
        "                                color=color)\n",
        "\n",
        "def plot_value_array(i, predictions_array, true_label):\n",
        "  true_label = true_label[i]\n",
        "  plt.grid(False)\n",
        "  plt.xticks(range(10))\n",
        "  plt.yticks([])\n",
        "  thisplot = plt.bar(range(10), predictions_array, color=\"#777777\")\n",
        "  plt.ylim([0, 1])\n",
        "  predicted_label = np.argmax(predictions_array)\n",
        "\n",
        "  thisplot[predicted_label].set_color('red')\n",
        "  thisplot[true_label].set_color('blue')"
      ],
      "execution_count": 38,
      "outputs": []
    },
    {
      "cell_type": "code",
      "metadata": {
        "id": "4fxCkcRes-sW",
        "outputId": "3f460a64-4b8b-4e1c-a082-31c1e5a66ac1",
        "colab": {
          "base_uri": "https://localhost:8080/",
          "height": 729
        }
      },
      "source": [
        "# Plot the first X (in our case, we did 5 X 3) test images, their predicted labels, and the true labels.\n",
        "# Color correct predictions in blue and incorrect predictions in red.\n",
        "num_rows = 5\n",
        "num_cols = 3\n",
        "num_images = num_rows*num_cols\n",
        "plt.figure(figsize=(2*2*num_cols, 2*num_rows))\n",
        "for i in range(num_images):\n",
        "  plt.subplot(num_rows, 2*num_cols, 2*i+1)\n",
        "\n",
        "  #review the plot_image function above\n",
        "  plot_image(i, predictions[i], test_labels, test_images)\n",
        "\n",
        "  plt.subplot(num_rows, 2*num_cols, 2*i+2)\n",
        "\n",
        "  #review the plot_value_array function above\n",
        "  plot_value_array(i, predictions[i], test_labels)\n",
        "plt.tight_layout()\n",
        "plt.show()"
      ],
      "execution_count": 39,
      "outputs": [
        {
          "output_type": "display_data",
          "data": {
            "text/plain": [
              "<Figure size 864x720 with 30 Axes>"
            ],
            "image/png": "[encoded data removed]"
          },
          "metadata": {
            "needs_background": "light"
          }
        }
      ]
    },
    {
      "cell_type": "markdown",
      "metadata": {
        "id": "cq5NBycZDWAO"
      },
      "source": [
        "#Use the Trained model\n",
        "\n",
        "This next codeblock contains code for making individual predictions."
      ]
    },
    {
      "cell_type": "code",
      "metadata": {
        "id": "ejFnx-F5DVDB",
        "outputId": "afd44b40-c45c-4993-b220-4e42f4a66ac8",
        "colab": {
          "base_uri": "https://localhost:8080/",
          "height": 404
        }
      },
      "source": [
        "# Grab an image from the test dataset.\n",
        "img = test_images[1]\n",
        "\n",
        "print(img.shape)\n",
        "\n",
        "# Add the image to a batch where it's the only member.\n",
        "# tf.keras models are optimized to make predictions on a batch, \n",
        "# or collection, of examples at once. \n",
        "# Accordingly, even though you're using a single image, you need to add it to a list\n",
        "img = (np.expand_dims(img,0))\n",
        "\n",
        "print(img.shape)\n",
        "\n",
        "# Now predict the correct label for this image\n",
        "predictions_single = probability_model.predict(img)\n",
        "\n",
        "print(predictions_single)\n",
        "\n",
        "#refer to the the plot_value_array function above\n",
        "plot_value_array(1, predictions_single[0], test_labels)\n",
        "_ = plt.xticks(range(10), class_names, rotation=45)\n",
        "plt.show()\n",
        "\n",
        "# tf.keras.Model.predict returns a list of lists — one list for each image in the batch of data. \n",
        "# Grab the predictions for our (only) image in the batch\n",
        "np.argmax(predictions_single[0])\n",
        "\n",
        "# And the model predicts a label as expected.\n"
      ],
      "execution_count": 40,
      "outputs": [
        {
          "output_type": "stream",
          "name": "stdout",
          "text": [
            "(28, 28)\n",
            "(1, 28, 28)\n",
            "1/1 [==============================] - 0s 27ms/step\n",
            "[[8.2623366e-05 8.2944159e-25 9.9991071e-01 6.9805441e-19 5.7410812e-06\n",
            "  5.9209339e-15 9.5210061e-07 2.6743710e-21 1.2361079e-19 2.7006985e-21]]\n"
          ]
        },
        {
          "output_type": "display_data",
          "data": {
            "text/plain": [
              "<Figure size 432x288 with 1 Axes>"
            ],
            "image/png": "[encoded data removed]"
          },
          "metadata": {
            "needs_background": "light"
          }
        },
        {
          "output_type": "execute_result",
          "data": {
            "text/plain": [
              "2"
            ]
          },
          "metadata": {},
          "execution_count": 40
        }
      ]
    },
    {
      "cell_type": "markdown",
      "metadata": {
        "id": "9cnZ9fCKDlGH"
      },
      "source": [
        "# **Upload this Day 2 Colab Notebook to your Github repository under \"Day 2\" folder. Also add your *Reflection* on today's learning in README.md**"
      ]
    }
  ]
}